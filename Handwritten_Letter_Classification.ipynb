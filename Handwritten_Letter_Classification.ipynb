{
  "cells": [
    {
      "cell_type": "markdown",
      "metadata": {
        "id": "CmGLVMpMtvVy"
      },
      "source": [
        "# PROJECT: HANDWRITTEN LETTER CLASSIFICATION"
      ]
    },
    {
      "cell_type": "markdown",
      "metadata": {
        "id": "ItQbgmTDtvV3"
      },
      "source": [
        "USING PCA, T-SNE, NEURAL NETWORK, AND SVM"
      ]
    },
    {
      "cell_type": "markdown",
      "metadata": {
        "id": "x3Xquev8tvV4"
      },
      "source": [
        "IMPORTING THE DEPENDENCIES"
      ]
    },
    {
      "cell_type": "code",
      "execution_count": null,
      "metadata": {
        "id": "Q9nXWMyEtvV5"
      },
      "outputs": [],
      "source": [
        "import numpy as np\n",
        "import pandas as pd\n",
        "import matplotlib.pyplot as plt\n",
        "import seaborn as sns\n",
        "import cv2\n",
        "from sklearn.model_selection import train_test_split\n",
        "from sklearn.metrics import accuracy_score\n",
        "from sklearn.decomposition import PCA\n",
        "from sklearn.svm import SVC\n",
        "from sklearn.model_selection import GridSearchCV\n",
        "from sklearn.preprocessing import MinMaxScaler\n",
        "import os\n",
        "import warnings\n",
        "warnings.filterwarnings('ignore')"
      ]
    },
    {
      "cell_type": "markdown",
      "metadata": {
        "id": "4jax_2BQtvV7"
      },
      "source": [
        "CREATING THE DATASET"
      ]
    },
    {
      "cell_type": "code",
      "execution_count": null,
      "metadata": {
        "id": "Mtx9T1hztvV8",
        "outputId": "52de6ca2-1629-4339-f886-bc2abc2cf7d2"
      },
      "outputs": [
        {
          "name": "stdout",
          "output_type": "stream",
          "text": [
            "['E', 'H', 'K', 'C', 'G', 'A', 'J', 'D', 'F', 'B']\n"
          ]
        }
      ],
      "source": [
        "path = 'folder/'\n",
        "files = os.listdir(path)\n",
        "classes = {\"A\":0, \"B\":1, \"C\":2, \"D\":3, \"E\":4, \"F\":5, \"G\":6, \"H\":7, \"J\":8, \"K\":9}\n",
        "print(files)"
      ]
    },
    {
      "cell_type": "markdown",
      "metadata": {
        "id": "YSbjP-LWtvV-"
      },
      "source": [
        "UPLOADING THE DATASET"
      ]
    },
    {
      "cell_type": "code",
      "execution_count": null,
      "metadata": {
        "id": "wQ6xLxiatvV-",
        "outputId": "5c48b934-146e-4dd8-9e5c-7188346109c4"
      },
      "outputs": [
        {
          "name": "stdout",
          "output_type": "stream",
          "text": [
            "Data Uploaded Successfully {'A'}\n",
            "Data Uploaded Successfully {'B'}\n",
            "Data Uploaded Successfully {'C'}\n",
            "Data Uploaded Successfully {'D'}\n",
            "Data Uploaded Successfully {'E'}\n",
            "Data Uploaded Successfully {'F'}\n",
            "Data Uploaded Successfully {'G'}\n",
            "Data Uploaded Successfully {'H'}\n",
            "Data Uploaded Successfully {'J'}\n",
            "Data Uploaded Successfully {'K'}\n"
          ]
        }
      ],
      "source": [
        "import cv2\n",
        "\n",
        "X = []\n",
        "Y = []\n",
        "\n",
        "for i in classes:\n",
        "    new_path = path + i\n",
        "    for img_name in os.listdir(new_path):\n",
        "        img = cv2.imread(new_path + \"/\" + img_name)\n",
        "        X.append(img)\n",
        "        Y.append(classes[i])\n",
        "    print(f'Data Uploaded Successfully', {i})"
      ]
    },
    {
      "cell_type": "code",
      "execution_count": null,
      "metadata": {
        "id": "t77JcnVltvV_",
        "outputId": "5e21ca4f-27da-4f7c-bd96-0f4e90c33b86"
      },
      "outputs": [
        {
          "data": {
            "text/plain": [
              "4    78\n",
              "7    75\n",
              "6    65\n",
              "8    63\n",
              "0    63\n",
              "5    62\n",
              "3    55\n",
              "1    53\n",
              "9    46\n",
              "2    25\n",
              "dtype: int64"
            ]
          },
          "execution_count": 4,
          "metadata": {},
          "output_type": "execute_result"
        }
      ],
      "source": [
        "# counting the datapoints for each class label\n",
        "pd.Series(Y).value_counts()"
      ]
    },
    {
      "cell_type": "code",
      "execution_count": null,
      "metadata": {
        "id": "LwLumN7ctvWA",
        "outputId": "1022eb76-5c85-47be-9bc3-e9455a61e41b"
      },
      "outputs": [
        {
          "name": "stdout",
          "output_type": "stream",
          "text": [
            "<class 'list'>\n",
            "<class 'numpy.ndarray'>\n",
            "<class 'numpy.ndarray'>\n"
          ]
        }
      ],
      "source": [
        "# Converting the list data type to numpy array to use numpy functions and easy calculations.\n",
        "\n",
        "print(type(X))\n",
        "X = np.array(X)\n",
        "Y = np.array(Y)\n",
        "print(type(Y))\n",
        "print(type(X))"
      ]
    },
    {
      "cell_type": "code",
      "execution_count": null,
      "metadata": {
        "id": "Zc6VVtbUtvWB",
        "outputId": "0356f499-30e8-49cd-ec92-99b1081f956b"
      },
      "outputs": [
        {
          "data": {
            "text/plain": [
              "(585,)"
            ]
          },
          "execution_count": 6,
          "metadata": {},
          "output_type": "execute_result"
        }
      ],
      "source": [
        "# This is basically telling the number of samples in list X\n",
        "X.shape"
      ]
    },
    {
      "cell_type": "code",
      "execution_count": null,
      "metadata": {
        "id": "MYJCT9ostvWC",
        "outputId": "28c5a523-2b54-40cf-acc9-b6244222808f"
      },
      "outputs": [
        {
          "data": {
            "text/plain": [
              "<matplotlib.image.AxesImage at 0x7fc0782e3d68>"
            ]
          },
          "execution_count": 7,
          "metadata": {},
          "output_type": "execute_result"
        },
        {
          "data": {
            "image/png": "[encoded data removed]",
            "text/plain": [
              "<matplotlib.figure.Figure at 0x7fc0c5577240>"
            ]
          },
          "metadata": {},
          "output_type": "display_data"
        }
      ],
      "source": [
        "# Displaying the 6th image or image at 5th index from a list containing 585 samples.\n",
        "plt.imshow(X[5], cmap='gray')"
      ]
    },
    {
      "cell_type": "markdown",
      "metadata": {
        "id": "cs3a0dpdtvWC"
      },
      "source": [
        "RESIZING THE DIMENTIONS OF EACH IMAGE IN 28X28 FORM"
      ]
    },
    {
      "cell_type": "code",
      "execution_count": null,
      "metadata": {
        "id": "0aIEwc3jtvWD",
        "outputId": "9f4764b2-19f2-4e40-9622-e0a026144e93"
      },
      "outputs": [
        {
          "name": "stdout",
          "output_type": "stream",
          "text": [
            "Data Uploaded Successfully:A\n",
            "Data Uploaded Successfully:B\n",
            "Data Uploaded Successfully:C\n",
            "Data Uploaded Successfully:D\n",
            "Data Uploaded Successfully:E\n",
            "Data Uploaded Successfully:F\n",
            "Data Uploaded Successfully:G\n",
            "Data Uploaded Successfully:H\n",
            "Data Uploaded Successfully:J\n",
            "Data Uploaded Successfully:K\n"
          ]
        }
      ],
      "source": [
        "# Resizing the dimention of each image into 28x28 form.\n",
        "# and then storing these to a new folder named 'resized_data'\n",
        "\n",
        "X = []\n",
        "Y = []\n",
        "\n",
        "resized_images_path = 'resized_data/'\n",
        "\n",
        "for i in classes:\n",
        "    new_path = path + i\n",
        "    for img_name in os.listdir(new_path):\n",
        "        img = cv2.imread(new_path + '/' + img_name)\n",
        "\n",
        "        # Resize the image to a specific width and height\n",
        "        new_width = 28\n",
        "        new_height = 28\n",
        "        img = cv2.resize(img, (28,28))\n",
        "\n",
        "        X.append(img)\n",
        "        Y.append(classes[i])\n",
        "\n",
        "        # Save the resized images\n",
        "        resized_img_path = resized_images_path + img_name\n",
        "        cv2.imwrite(resized_img_path, img)\n",
        "\n",
        "    print(f'Data Uploaded Successfully:{i}')"
      ]
    },
    {
      "cell_type": "code",
      "execution_count": null,
      "metadata": {
        "id": "IRjwNoBOtvWD",
        "outputId": "977317d9-f42b-4c05-f5b5-85f817ead75d"
      },
      "outputs": [
        {
          "name": "stdout",
          "output_type": "stream",
          "text": [
            "(28, 28, 3)\n"
          ]
        }
      ],
      "source": [
        "print(img.shape)"
      ]
    },
    {
      "cell_type": "code",
      "execution_count": null,
      "metadata": {
        "id": "N4QSeaL4tvWE",
        "outputId": "3596d527-07d8-40bc-c604-99acd67d626a"
      },
      "outputs": [
        {
          "name": "stdout",
          "output_type": "stream",
          "text": [
            "<class 'list'>\n",
            "<class 'numpy.ndarray'>\n",
            "<class 'numpy.ndarray'>\n"
          ]
        }
      ],
      "source": [
        "# Converting the list to numpy array\n",
        "\n",
        "print(type(X))\n",
        "X = np.array(X)\n",
        "Y = np.array(Y)\n",
        "print(type(Y))\n",
        "print(type(X))"
      ]
    },
    {
      "cell_type": "code",
      "execution_count": null,
      "metadata": {
        "id": "eIG3nbErtvWF",
        "outputId": "46801f7b-4bdf-4190-b9bb-ededcf1e9a70"
      },
      "outputs": [
        {
          "name": "stdout",
          "output_type": "stream",
          "text": [
            "(585, 28, 28, 3)\n"
          ]
        }
      ],
      "source": [
        "print(X.shape)"
      ]
    },
    {
      "cell_type": "code",
      "execution_count": null,
      "metadata": {
        "id": "zanEnq_MtvWF",
        "outputId": "9215b503-0c5c-4f26-9488-6bc69dc7b64f"
      },
      "outputs": [
        {
          "data": {
            "text/plain": [
              "<matplotlib.image.AxesImage at 0x7fc07826fcc0>"
            ]
          },
          "execution_count": 12,
          "metadata": {},
          "output_type": "execute_result"
        },
        {
          "data": {
            "image/png": "[encoded data removed]",
            "text/plain": [
              "<matplotlib.figure.Figure at 0x7fc0782b36a0>"
            ]
          },
          "metadata": {},
          "output_type": "display_data"
        }
      ],
      "source": [
        "plt.imshow(X[0],cmap='gray')"
      ]
    },
    {
      "cell_type": "markdown",
      "metadata": {
        "id": "Ar7-3UjHtvWG"
      },
      "source": [
        "RESHAPING"
      ]
    },
    {
      "cell_type": "markdown",
      "metadata": {
        "id": "0ag2W2K1tvWG"
      },
      "source": [
        "The purpose of reshaping X into X_new is to transform the images from their original format into a flattened representation where each sample is represented as a single row. This has been done to feed it into a machine learning algorithm that requires a 2D input format (samples as rows and features as columns)"
      ]
    },
    {
      "cell_type": "code",
      "execution_count": null,
      "metadata": {
        "id": "x_LgPQestvWH",
        "outputId": "f14ac24f-2980-4986-b28f-b22ee2bab909"
      },
      "outputs": [
        {
          "name": "stdout",
          "output_type": "stream",
          "text": [
            "(585, 2352)\n",
            "(585,)\n"
          ]
        }
      ],
      "source": [
        "# Reshaping the Dataset\n",
        "\n",
        "X_new = X.reshape(len(X),-1)\n",
        "\n",
        "#Printing the new shape\n",
        "print(X_new.shape)\n",
        "print(Y.shape)"
      ]
    },
    {
      "cell_type": "markdown",
      "metadata": {
        "id": "0ualqg2QtvWH"
      },
      "source": [
        "TRAIN-TEST-SPLIT"
      ]
    },
    {
      "cell_type": "markdown",
      "metadata": {
        "id": "ApZhWKN2tvWH"
      },
      "source": [
        "TRAINING DATASET --------> 80 Percent\n"
      ]
    },
    {
      "cell_type": "markdown",
      "metadata": {
        "id": "7zCJRRyGtvWI"
      },
      "source": [
        "TESTING DATASET ----------> 20 Percent"
      ]
    },
    {
      "cell_type": "code",
      "execution_count": null,
      "metadata": {
        "id": "AFTOWASMtvWI"
      },
      "outputs": [],
      "source": [
        "# Splitting the Dataset into Training Dataset and Test Dataset\n",
        "\n",
        "X_train, X_test, Y_train, Y_test = train_test_split(X_new, Y, test_size=.20, random_state=10)"
      ]
    },
    {
      "cell_type": "code",
      "execution_count": null,
      "metadata": {
        "id": "UpMuZvhTtvWJ",
        "outputId": "def385e5-f827-4b7a-ee7b-dd5f98f428f4"
      },
      "outputs": [
        {
          "name": "stdout",
          "output_type": "stream",
          "text": [
            "(468, 2352) (468,)\n",
            "(117, 2352) (117,)\n"
          ]
        }
      ],
      "source": [
        "# Checking the sample split of training and test data.\n",
        "\n",
        "print(X_train.shape, Y_train.shape)\n",
        "print(X_test.shape, Y_test.shape)"
      ]
    },
    {
      "cell_type": "markdown",
      "metadata": {
        "id": "Uz1MFC8dtvWJ"
      },
      "source": [
        "468 -----> Train samples\n",
        "\n",
        "117 -----> Test samples"
      ]
    },
    {
      "cell_type": "code",
      "execution_count": null,
      "metadata": {
        "id": "PUzo5b4ftvWJ",
        "outputId": "383e0f97-9225-4d98-9922-f9bdaf296ce8"
      },
      "outputs": [
        {
          "name": "stdout",
          "output_type": "stream",
          "text": [
            "[255 255 255 ... 255 255 255]\n"
          ]
        }
      ],
      "source": [
        "# Displaying the Flattened Data at index 10.\n",
        "\n",
        "print(X_train[10])"
      ]
    },
    {
      "cell_type": "markdown",
      "metadata": {
        "id": "LJ9hHttgtvWK"
      },
      "source": [
        "FEATURE SCALING"
      ]
    },
    {
      "cell_type": "markdown",
      "metadata": {
        "id": "JL7QCpZRtvWK"
      },
      "source": [
        "To Normalizing the pixel values to unit value, We are dividing with the maximum value in the dataset"
      ]
    },
    {
      "cell_type": "code",
      "execution_count": null,
      "metadata": {
        "id": "9gPUkt2utvWK",
        "outputId": "9891ede7-27fc-4b7b-dc66-c2a5cc0ce4a5"
      },
      "outputs": [
        {
          "name": "stdout",
          "output_type": "stream",
          "text": [
            "255\n",
            "255\n",
            "1.0\n",
            "1.0\n"
          ]
        }
      ],
      "source": [
        "#Printing the maximum values for train and test data set\n",
        "\n",
        "print(X_train.max())\n",
        "print(X_test.max())\n",
        "\n",
        "# Dividing the train and test data with the maximum value in dataset\n",
        "X_train = X_train/255\n",
        "X_test = X_test/255\n",
        "\n",
        "# Now printing the updated maximum value from the dataset\n",
        "print(X_train.max())\n",
        "print(X_test.max())"
      ]
    },
    {
      "cell_type": "markdown",
      "metadata": {
        "id": "u-tG_be1tvWL"
      },
      "source": [
        "DIMENTIONALITY REDUCTION: USING PRINCIPLE COMPONENT ANALYSIS"
      ]
    },
    {
      "cell_type": "markdown",
      "metadata": {
        "id": "QXR2pK5_tvWL"
      },
      "source": [
        "FEATURE SELECTION USING PCA"
      ]
    },
    {
      "cell_type": "code",
      "execution_count": null,
      "metadata": {
        "id": "CE5dg4mztvWL",
        "outputId": "43631a70-f501-47aa-bfbe-ecc7900fb139"
      },
      "outputs": [
        {
          "name": "stdout",
          "output_type": "stream",
          "text": [
            "(468, 2352) (117, 2352)\n",
            "(468, 287) (117, 287)\n",
            "0.98\n",
            "2352\n"
          ]
        }
      ],
      "source": [
        "# Printing the shapes of the arrays\n",
        "print(X_train.shape, X_test.shape)\n",
        "\n",
        "# To Retain 98% of the variance in the data.\n",
        "pca = PCA(.98)\n",
        "\n",
        "# First fits the PCA Model to the Data and then transforms it.\n",
        "X_train = pca.fit_transform(X_train)\n",
        "\n",
        "# This ensures that the same transformation  learned from X_train is applied to X_test\n",
        "X_test = pca.transform(X_test)\n",
        "\n",
        "# Printing the new shapes of the arrays X_train and X_test after applying PCA.\n",
        "print(X_train.shape, X_test.shape)\n",
        "\n",
        "# To print the number of components (n_components) and the number of features (n_features_) in the PCA in the model.\n",
        "print(pca.n_components)\n",
        "print(pca.n_features_)"
      ]
    },
    {
      "cell_type": "code",
      "execution_count": null,
      "metadata": {
        "id": "_z7bvUyctvWM",
        "outputId": "edd69794-ceea-4851-f319-584a190d2285"
      },
      "outputs": [
        {
          "data": {
            "text/plain": [
              "array([7, 1, 0, 8, 3, 3, 7, 8, 5, 2])"
            ]
          },
          "execution_count": 19,
          "metadata": {},
          "output_type": "execute_result"
        }
      ],
      "source": [
        "Y_test[:10]"
      ]
    },
    {
      "cell_type": "markdown",
      "metadata": {
        "id": "amsev99ltvWM"
      },
      "source": [
        "MIN MAX SCALING"
      ]
    },
    {
      "cell_type": "code",
      "execution_count": null,
      "metadata": {
        "id": "8ZHPNlNEtvWN",
        "outputId": "4479bd62-1d09-4e71-c15b-94006ba6d319"
      },
      "outputs": [
        {
          "name": "stdout",
          "output_type": "stream",
          "text": [
            "1.0000000000000002\n",
            "1.389904634752797\n"
          ]
        }
      ],
      "source": [
        "# Min Max Scaling\n",
        "min_max_scaler = MinMaxScaler()\n",
        "\n",
        "# Scaling each feature in the range of 0 to 1\n",
        "X_train_scaled = min_max_scaler.fit_transform(X_train)\n",
        "\n",
        "# To ensure that the scaling is consistent between the training and testing dataset.\n",
        "X_test_scaled = min_max_scaler.transform(X_test)\n",
        "\n",
        "# To print the maximum value among the scaled features\n",
        "print(X_train_scaled.max())\n",
        "print(X_test_scaled.max())"
      ]
    },
    {
      "cell_type": "code",
      "execution_count": null,
      "metadata": {
        "id": "PNo5LAOrtvWO",
        "outputId": "265d32bf-2106-444a-c692-f9e342ebc68f"
      },
      "outputs": [
        {
          "name": "stdout",
          "output_type": "stream",
          "text": [
            "[0 1 2 3 4 5 6 7 8 9]\n",
            "[0 1 2 3 4 5 6 7 8 9]\n"
          ]
        }
      ],
      "source": [
        "# To return the sorted unique elements of an array.\n",
        "print(np.unique(Y_train))\n",
        "print(np.unique(Y_test))"
      ]
    },
    {
      "cell_type": "code",
      "execution_count": null,
      "metadata": {
        "id": "T0W8jrdMtvWP",
        "outputId": "b826d786-eb26-4757-ba1c-171268960b11"
      },
      "outputs": [
        {
          "name": "stdout",
          "output_type": "stream",
          "text": [
            "[-4.12982944e+00 -1.62594701e+00 -2.94972612e+00 -1.78067519e+00\n",
            " -1.88458817e-01  1.21827114e+00  2.72498827e-01 -2.18300373e+00\n",
            " -2.98133893e+00  1.64666192e+00  1.01363410e+00  6.58386245e-01\n",
            " -8.28972420e-01 -3.77187598e+00 -1.36392548e+00  2.90686930e+00\n",
            " -1.25038115e+00  2.05996776e+00 -7.94324819e-01 -3.04924327e+00\n",
            "  2.87045257e+00  7.75373363e-02 -8.90837003e-01 -2.67182571e+00\n",
            " -1.22195849e+00 -2.63295603e-01 -1.60991636e+00  1.24355899e+00\n",
            " -1.39443803e+00 -4.31106673e-01  1.10836825e+00  1.06427580e+00\n",
            "  6.41517759e-01 -1.14669658e-01 -1.80676577e+00  5.42359974e-01\n",
            " -3.01998913e-01  1.77639829e+00 -1.50577597e+00 -7.22080501e-01\n",
            "  1.92102050e+00 -4.14895628e-01 -6.70911352e-01 -5.93747082e-02\n",
            "  6.50114003e-01  4.44353375e-01 -7.93052234e-01  1.66703264e-01\n",
            "  1.13913612e+00 -1.86340939e+00  1.24288976e+00 -2.35680851e-01\n",
            "  7.68878513e-01  8.34635707e-01  4.64546455e-02 -1.29427491e+00\n",
            "  1.25285855e+00 -1.26760034e-01 -2.68704810e+00 -1.49607404e+00\n",
            "  9.49995200e-02  4.76496544e-01  1.08202466e+00  4.85795883e-01\n",
            "  1.47513160e+00 -7.76269793e-01 -3.09736350e-01 -5.21646341e-01\n",
            "  3.00871646e-01 -1.24934743e+00  1.59350162e+00  1.43483102e+00\n",
            " -1.18165327e+00  1.85760897e+00 -7.62047863e-03  8.80055108e-01\n",
            "  1.07907708e+00 -7.30156082e-01 -5.95491701e-01 -6.68540810e-01\n",
            "  1.92883390e-01  9.80941786e-01 -6.96183098e-01 -1.93167009e-01\n",
            "  5.03819437e-01 -2.09352245e-01  1.18393062e-01  8.90358987e-02\n",
            "  1.10127746e+00  3.11967810e-01  2.69528453e-01 -1.46726330e-01\n",
            "  4.29885121e-01  3.15269600e-01  7.88243910e-03 -7.04368453e-01\n",
            "  1.33196646e+00 -1.03568422e+00  3.28451293e-01 -5.86608693e-02\n",
            "  4.39440736e-01  6.18330052e-01  2.31752802e-01  8.18499780e-01\n",
            " -9.20284959e-01 -3.51778545e-01 -7.49830809e-02 -1.17171825e-01\n",
            "  1.68204495e-01  3.04724381e-01  8.91327916e-01 -7.84898610e-01\n",
            " -1.68547682e-01 -9.47672737e-01 -8.13318584e-02  5.45379576e-01\n",
            " -5.77637398e-01  2.42369851e-01  4.93290090e-01  1.23337416e-01\n",
            "  1.18629383e+00  3.82893650e-01 -1.38978775e+00 -5.25386038e-02\n",
            "  4.64337515e-01  2.53182614e-01  3.40832387e-01  3.88508616e-01\n",
            " -3.22647461e-01 -7.20246591e-01 -2.02307167e-02 -1.54617129e+00\n",
            "  2.03904953e-01 -1.13163661e+00 -8.28292034e-01 -7.08643075e-01\n",
            " -2.71385179e-01  1.47924582e-01 -6.94618229e-01 -1.80016769e-01\n",
            "  8.33629139e-01 -4.84080450e-01 -1.34727664e+00 -9.06972471e-01\n",
            " -3.57965181e-01  6.41433313e-01 -7.88106148e-01 -1.27350922e-01\n",
            " -9.66422862e-02  1.66769351e-01 -1.19297791e+00  5.54281499e-01\n",
            " -4.82719376e-01 -1.00923908e+00 -3.62136520e-01  2.16622870e-03\n",
            "  7.68493493e-01 -1.69940644e-01 -2.99935536e-01 -3.58856007e-01\n",
            " -5.35014192e-02 -7.59650887e-01  2.85405143e-02 -4.20098266e-01\n",
            " -5.55817766e-01  1.64467918e-01  4.16035788e-01 -3.90656472e-01\n",
            " -2.04020338e-01 -3.95613507e-01 -4.58078283e-01 -1.43880748e-01\n",
            "  9.48257579e-02  9.33973507e-01 -6.03935371e-01  3.29036069e-01\n",
            "  7.26565481e-01  4.57513113e-02  5.72836666e-01 -2.12149266e-02\n",
            "  5.40055321e-01  6.28225660e-02 -3.12525594e-01 -6.34166630e-01\n",
            " -3.97736680e-01  1.79849467e-01  8.16954373e-01  1.32313045e-01\n",
            "  8.88327571e-01 -1.52292322e-01  6.47050086e-02 -3.98848939e-01\n",
            " -5.17444075e-01  3.98146414e-01  9.81542205e-01  2.44314165e-01\n",
            "  1.78475549e-01  4.10526588e-01 -4.66137063e-01  4.38851429e-01\n",
            "  2.65076121e-01  6.98392901e-01 -8.68251500e-01  1.17997206e-01\n",
            "  1.03656202e-01 -4.37546882e-01  6.80929240e-02 -5.70007254e-01\n",
            "  3.16982248e-01  1.93651123e-02 -7.68271536e-02 -1.93484557e-01\n",
            "  4.28140490e-01  2.74645936e-02  3.33283792e-01  1.08685352e-01\n",
            "  2.91965919e-01 -6.16612004e-02 -9.27753478e-02  2.63051484e-01\n",
            " -4.27594482e-01  1.37166121e-01  2.23867773e-01  6.45954547e-01\n",
            "  6.62028393e-02  1.62910550e-01  8.66417787e-01  2.97852365e-01\n",
            " -5.15930322e-01 -2.58311140e-01 -1.41757999e-01  1.72470723e-01\n",
            "  4.62273912e-01 -2.44598033e-01  3.86671502e-01 -3.06862544e-01\n",
            " -3.44891709e-01 -1.35313576e-01  3.33435252e-01  5.11785819e-01\n",
            "  2.09810941e-01 -1.73549472e-01 -9.28702142e-03  1.19002187e-01\n",
            " -2.77128081e-02  4.11524703e-01  9.52367715e-01 -7.95687889e-02\n",
            " -7.47136950e-03 -7.06777103e-01 -7.40949790e-01  3.35767079e-01\n",
            " -2.19636935e-01 -3.74282187e-02  3.03746368e-01  6.15663112e-03\n",
            "  8.87639269e-02  3.96211810e-02  9.33657111e-02  3.61377866e-01\n",
            " -5.40556663e-02  3.30072183e-01 -1.98488593e-01 -6.62764081e-01\n",
            "  1.08828479e-01  6.82754735e-02 -6.83470119e-01 -1.65593992e-01\n",
            "  4.01461709e-01 -1.73290894e-01  3.49440628e-01  8.67866515e-02\n",
            " -1.94447524e-01  3.32519985e-01 -5.74850898e-01 -9.97894910e-02\n",
            " -5.35757737e-02 -6.41538020e-01  3.59319924e-01  1.95811621e-01\n",
            "  5.63800136e-01  3.29823047e-01  1.16583624e-01 -1.18389741e-01\n",
            "  4.32015771e-01 -4.95449127e-01 -3.93811100e-01]\n"
          ]
        }
      ],
      "source": [
        "print(X_train[10])"
      ]
    },
    {
      "cell_type": "code",
      "execution_count": null,
      "metadata": {
        "id": "bL6wJ2PotvWY",
        "outputId": "0a1a28c0-d145-43e3-fd52-3acb74534118"
      },
      "outputs": [
        {
          "name": "stdout",
          "output_type": "stream",
          "text": [
            "(287,)\n"
          ]
        }
      ],
      "source": [
        "print(X_train[10].shape)"
      ]
    },
    {
      "cell_type": "markdown",
      "metadata": {
        "id": "bpFsRiLXtvWZ"
      },
      "source": [
        "CONVOLUTIONAL NEURAL NETWORK : CNN"
      ]
    },
    {
      "cell_type": "markdown",
      "metadata": {
        "id": "NGQGLrZYtvWZ"
      },
      "source": [
        "BUILDING A NEURAL NETWORK MODEL"
      ]
    },
    {
      "cell_type": "code",
      "execution_count": null,
      "metadata": {
        "id": "waWM9a9ltvWa"
      },
      "outputs": [],
      "source": [
        "# importing Tensor Flow\n",
        "import tensorflow as tf\n",
        "\n",
        "# Setting the random seed to ensure that the results are reproducible\n",
        "tf.random.set_seed(3)\n",
        "\n",
        "# Importing Keras Library from Tensor Flow\n",
        "from tensorflow import keras\n",
        "\n",
        "#Importing Confusion Matrix to evaluate the performance of classification models.\n",
        "from tensorflow.math import confusion_matrix\n"
      ]
    },
    {
      "cell_type": "code",
      "execution_count": null,
      "metadata": {
        "id": "QAEk1Dj2tvWa"
      },
      "outputs": [],
      "source": [
        "# Defining a Sequential Model with three Dense layers.\n",
        "model = keras.Sequential([\n",
        "                          keras.layers.Dense(50, activation='relu'),\n",
        "                          keras.layers.Dense(50, activation='tanh'),\n",
        "                          keras.layers.Dense(10, activation='sigmoid')\n",
        "])"
      ]
    },
    {
      "cell_type": "code",
      "execution_count": null,
      "metadata": {
        "id": "gp8WWRkXtvWb"
      },
      "outputs": [],
      "source": [
        "# Compiling the Sequential model using Adam Optimizer\n",
        "model.compile(optimizer='adam', loss='sparse_categorical_crossentropy',\n",
        "             metrics=['accuracy'])"
      ]
    },
    {
      "cell_type": "code",
      "execution_count": null,
      "metadata": {
        "id": "HnIs8gAVtvWb",
        "outputId": "b9d0e17d-f991-4da6-98a3-dbc64cd97ee7"
      },
      "outputs": [
        {
          "name": "stdout",
          "output_type": "stream",
          "text": [
            "Epoch 1/15\n",
            "15/15 [==============================] - 1s 3ms/step - loss: 2.2512 - accuracy: 0.2244\n",
            "Epoch 2/15\n",
            "15/15 [==============================] - 0s 3ms/step - loss: 1.7359 - accuracy: 0.4637\n",
            "Epoch 3/15\n",
            "15/15 [==============================] - 0s 5ms/step - loss: 1.3783 - accuracy: 0.6859\n",
            "Epoch 4/15\n",
            "15/15 [==============================] - 0s 4ms/step - loss: 1.0792 - accuracy: 0.8291\n",
            "Epoch 5/15\n",
            "15/15 [==============================] - 0s 4ms/step - loss: 0.8293 - accuracy: 0.8889\n",
            "Epoch 6/15\n",
            "15/15 [==============================] - 0s 5ms/step - loss: 0.6296 - accuracy: 0.9316\n",
            "Epoch 7/15\n",
            "15/15 [==============================] - 0s 4ms/step - loss: 0.4747 - accuracy: 0.9637\n",
            "Epoch 8/15\n",
            "15/15 [==============================] - 0s 4ms/step - loss: 0.3586 - accuracy: 0.9850\n",
            "Epoch 9/15\n",
            "15/15 [==============================] - 0s 4ms/step - loss: 0.2747 - accuracy: 0.9893\n",
            "Epoch 10/15\n",
            "15/15 [==============================] - 0s 4ms/step - loss: 0.2116 - accuracy: 0.9957\n",
            "Epoch 11/15\n",
            "15/15 [==============================] - 0s 3ms/step - loss: 0.1669 - accuracy: 0.9979\n",
            "Epoch 12/15\n",
            "15/15 [==============================] - 0s 5ms/step - loss: 0.1331 - accuracy: 0.9979\n",
            "Epoch 13/15\n",
            "15/15 [==============================] - 0s 4ms/step - loss: 0.1084 - accuracy: 1.0000\n",
            "Epoch 14/15\n",
            "15/15 [==============================] - 0s 5ms/step - loss: 0.0899 - accuracy: 1.0000\n",
            "Epoch 15/15\n",
            "15/15 [==============================] - 0s 4ms/step - loss: 0.0757 - accuracy: 1.0000\n"
          ]
        },
        {
          "data": {
            "text/plain": [
              "<keras.callbacks.History at 0x7fc03463ee48>"
            ]
          },
          "execution_count": 27,
          "metadata": {},
          "output_type": "execute_result"
        }
      ],
      "source": [
        "# Here,The entire training dataset is passed through the model 15 times to learn and get trained.\n",
        "model.fit(X_train, Y_train, epochs=15)"
      ]
    },
    {
      "cell_type": "markdown",
      "metadata": {
        "id": "t8FQ5v1utvWb"
      },
      "source": [
        "ACCURACY ON TEST DATA"
      ]
    },
    {
      "cell_type": "code",
      "execution_count": null,
      "metadata": {
        "id": "FaOhRAmZtvWc",
        "outputId": "22a85c09-7f7f-4ac2-efc4-892c33ad5652"
      },
      "outputs": [
        {
          "name": "stdout",
          "output_type": "stream",
          "text": [
            "4/4 [==============================] - 0s 3ms/step - loss: 0.4945 - accuracy: 0.8547\n",
            "0.8547008633613586\n"
          ]
        }
      ],
      "source": [
        "# Evaluating the trained model using the test data\n",
        "loss, accuracy = model.evaluate(X_test, Y_test)\n",
        "print(accuracy)"
      ]
    },
    {
      "cell_type": "markdown",
      "metadata": {
        "id": "OMV67afotvWc"
      },
      "source": [
        "ACCURACY OF CNN ON TRAINING DATA --------> 100 Percent"
      ]
    },
    {
      "cell_type": "markdown",
      "metadata": {
        "id": "xNEUQn6htvWd"
      },
      "source": [
        "ACCURACY OF CNN ON TESTING DATA ------> 85 Percent"
      ]
    },
    {
      "cell_type": "code",
      "execution_count": null,
      "metadata": {
        "id": "dDICFyu4tvWd",
        "outputId": "33171ebe-5fc5-4b86-f769-5a02233b688a"
      },
      "outputs": [
        {
          "name": "stdout",
          "output_type": "stream",
          "text": [
            "(117, 287)\n"
          ]
        }
      ],
      "source": [
        "print(X_test.shape)"
      ]
    },
    {
      "cell_type": "code",
      "execution_count": null,
      "metadata": {
        "id": "A-wb-ig0tvWe",
        "outputId": "14917dc2-0c4f-44f8-aa41-b581a9956efc"
      },
      "outputs": [
        {
          "data": {
            "text/plain": [
              "<matplotlib.image.AxesImage at 0x7fc01ffd7748>"
            ]
          },
          "execution_count": 30,
          "metadata": {},
          "output_type": "execute_result"
        },
        {
          "data": {
            "image/png": "[encoded data removed]",
            "text/plain": [
              "<matplotlib.figure.Figure at 0x7fc01ffd7550>"
            ]
          },
          "metadata": {},
          "output_type": "display_data"
        }
      ],
      "source": [
        "# Displaying 6th image in X_test\n",
        "plt.imshow(X[5])"
      ]
    },
    {
      "cell_type": "code",
      "execution_count": null,
      "metadata": {
        "id": "XND3kRwEtvWe",
        "outputId": "78fbf424-011e-459c-92fe-2857109681ca"
      },
      "outputs": [
        {
          "name": "stdout",
          "output_type": "stream",
          "text": [
            "7\n"
          ]
        }
      ],
      "source": [
        "# Printing the Label associated with the first sample in the test set\n",
        "print(Y_test[0])"
      ]
    },
    {
      "cell_type": "code",
      "execution_count": null,
      "metadata": {
        "id": "jr0n86yHtvWf"
      },
      "outputs": [],
      "source": [
        "# Using the trained model to make predictions on the test data\n",
        "Y_predict = model.predict(X_test)"
      ]
    },
    {
      "cell_type": "code",
      "execution_count": null,
      "metadata": {
        "id": "f1awpM7CtvWf",
        "outputId": "b87782ec-544d-4d4d-b3e0-a625e5b980b5"
      },
      "outputs": [
        {
          "name": "stdout",
          "output_type": "stream",
          "text": [
            "(117, 10)\n"
          ]
        }
      ],
      "source": [
        "print(Y_predict.shape)"
      ]
    },
    {
      "cell_type": "code",
      "execution_count": null,
      "metadata": {
        "id": "PyYAszTKtvWg",
        "outputId": "91bf282e-4935-44ad-b053-66d92350eceb"
      },
      "outputs": [
        {
          "name": "stdout",
          "output_type": "stream",
          "text": [
            "[0.15593854 0.376974   0.4696275  0.30980846 0.37715256 0.77284527\n",
            " 0.2534018  0.9926052  0.3306234  0.67607594]\n"
          ]
        }
      ],
      "source": [
        "print(Y_predict[0])"
      ]
    },
    {
      "cell_type": "code",
      "execution_count": null,
      "metadata": {
        "id": "Bo2RH_pKtvWg",
        "outputId": "304cea17-e261-4385-81d7-13f373fcbcae"
      },
      "outputs": [
        {
          "name": "stdout",
          "output_type": "stream",
          "text": [
            "7\n"
          ]
        }
      ],
      "source": [
        "# Converting the prediction probabilities to class Label\n",
        "label_for_first_image = np.argmax(Y_predict[0])\n",
        "print(label_for_first_image)"
      ]
    },
    {
      "cell_type": "code",
      "execution_count": null,
      "metadata": {
        "id": "hG1HLagCtvWh",
        "outputId": "1a8602e9-66a2-4434-a61f-6cac7f2c372e"
      },
      "outputs": [
        {
          "name": "stdout",
          "output_type": "stream",
          "text": [
            "[7, 4, 0, 8, 3, 4, 7, 8, 5, 4, 3, 4, 7, 9, 6, 6, 1, 1, 4, 5, 5, 6, 5, 6, 4, 8, 5, 6, 3, 1, 2, 6, 1, 7, 3, 8, 8, 4, 3, 7, 3, 4, 9, 9, 5, 8, 3, 8, 4, 0, 6, 7, 9, 3, 3, 3, 1, 6, 3, 1, 8, 6, 3, 0, 4, 0, 0, 1, 5, 5, 7, 7, 7, 7, 9, 9, 3, 6, 1, 4, 6, 8, 4, 6, 6, 7, 5, 4, 2, 0, 0, 5, 4, 5, 7, 1, 1, 6, 6, 4, 3, 8, 3, 7, 7, 5, 0, 3, 9, 9, 5, 4, 3, 5, 9, 3, 1]\n"
          ]
        }
      ],
      "source": [
        "# Conerting the prediction probabilities to class label for all test data points\n",
        "Y_predict_labels = [np.argmax(i) for i in Y_predict]\n",
        "print(Y_predict_labels)"
      ]
    },
    {
      "cell_type": "code",
      "execution_count": null,
      "metadata": {
        "id": "ocCDAgQhtvWh",
        "outputId": "a3077da2-0ed2-4799-e24c-e42402380e50"
      },
      "outputs": [
        {
          "name": "stdout",
          "output_type": "stream",
          "text": [
            "[[0.15593854 0.376974   0.4696275  ... 0.9926052  0.3306234  0.67607594]\n",
            " [0.11547917 0.9212204  0.29540607 ... 0.08434361 0.617257   0.3232301 ]\n",
            " [0.9934572  0.49983957 0.36694306 ... 0.10131136 0.07594386 0.5349803 ]\n",
            " ...\n",
            " [0.35454977 0.58541346 0.12500891 ... 0.8283477  0.15502861 0.95830786]\n",
            " [0.39595363 0.27679095 0.39886194 ... 0.7729111  0.8443713  0.08199215]\n",
            " [0.12516883 0.99645656 0.1865009  ... 0.09065741 0.42132744 0.43985772]]\n"
          ]
        }
      ],
      "source": [
        "print(Y_predict)"
      ]
    },
    {
      "cell_type": "markdown",
      "metadata": {
        "id": "cxyAvmthtvWi"
      },
      "source": [
        "Y_test ----------> True Labels"
      ]
    },
    {
      "cell_type": "markdown",
      "metadata": {
        "id": "NuACdH2ntvWi"
      },
      "source": [
        "Y_predict_labels ---------> Predicted Labels"
      ]
    },
    {
      "cell_type": "markdown",
      "metadata": {
        "id": "DJTCMVUotvWi"
      },
      "source": [
        "CONFUSION MATRIX"
      ]
    },
    {
      "cell_type": "code",
      "execution_count": null,
      "metadata": {
        "id": "CdkRsf7ztvWj"
      },
      "outputs": [],
      "source": [
        "# Building a confusion matrix using true labels and predicted labels.\n",
        "conf_matrix = confusion_matrix(Y_test, Y_predict_labels)"
      ]
    },
    {
      "cell_type": "code",
      "execution_count": null,
      "metadata": {
        "id": "VdkZgSuttvWj",
        "outputId": "60ac0a44-c509-44ce-aea1-a32502ccc49c"
      },
      "outputs": [
        {
          "name": "stdout",
          "output_type": "stream",
          "text": [
            "tf.Tensor(\n",
            "[[ 7  0  0  1  1  0  0  0  0  0]\n",
            " [ 0 10  0  1  1  0  0  1  0  0]\n",
            " [ 0  0  2  0  2  0  0  0  0  0]\n",
            " [ 0  0  0 15  1  0  0  0  0  0]\n",
            " [ 1  1  0  0 10  1  0  0  0  0]\n",
            " [ 0  0  0  0  0 13  1  0  0  1]\n",
            " [ 0  0  0  1  1  0 14  0  1  0]\n",
            " [ 0  0  0  0  0  0  0 12  0  0]\n",
            " [ 0  0  0  0  0  0  0  0  9  0]\n",
            " [ 0  0  0  0  0  0  0  1  0  8]], shape=(10, 10), dtype=int32)\n"
          ]
        }
      ],
      "source": [
        "# Printing the Confusion Matrix\n",
        "print(conf_matrix)"
      ]
    },
    {
      "cell_type": "markdown",
      "metadata": {
        "id": "KE4_YTx9tvWk"
      },
      "source": [
        "VISUALIZING THE CONFUSION MATRIX"
      ]
    },
    {
      "cell_type": "code",
      "execution_count": null,
      "metadata": {
        "id": "_YmzDh_RtvWk",
        "outputId": "e815080c-da02-4a53-91a7-9639ab72ac3d"
      },
      "outputs": [
        {
          "data": {
            "text/plain": [
              "Text(0.5,42,'Predicted Labels')"
            ]
          },
          "execution_count": 40,
          "metadata": {},
          "output_type": "execute_result"
        },
        {
          "data": {
            "image/png": "[encoded data removed]",
            "text/plain": [
              "<matplotlib.figure.Figure at 0x7fc01ff7f2e8>"
            ]
          },
          "metadata": {},
          "output_type": "display_data"
        }
      ],
      "source": [
        "# Heatmap visualization of Confusion Matrix\n",
        "plt.figure(figsize=(15,7))\n",
        "sns.heatmap(conf_matrix, annot=True, fmt='d', cmap='Blues')\n",
        "plt.ylabel('True Labels')\n",
        "plt.xlabel('Predicted Labels')"
      ]
    },
    {
      "cell_type": "markdown",
      "metadata": {
        "id": "fP5faZ2QtvWk"
      },
      "source": [
        "HYPER PARAMETER TUNING"
      ]
    },
    {
      "cell_type": "code",
      "execution_count": null,
      "metadata": {
        "id": "VArBmd4ftvWl",
        "outputId": "caf6f397-d5cf-401d-df80-5278cffe0b59"
      },
      "outputs": [
        {
          "name": "stdout",
          "output_type": "stream",
          "text": [
            "Defaulting to user installation because normal site-packages is not writeable\n",
            "Requirement already satisfied: keras-tuner in /home/user15/.local/lib/python3.6/site-packages (1.3.5)\n",
            "Requirement already satisfied: requests in /usr/local/lib/python3.6/dist-packages (from keras-tuner) (2.27.1)\n",
            "Requirement already satisfied: packaging in /usr/local/lib/python3.6/dist-packages (from keras-tuner) (21.3)\n",
            "Requirement already satisfied: kt-legacy in /home/user15/.local/lib/python3.6/site-packages (from keras-tuner) (1.0.5)\n",
            "Requirement already satisfied: pyparsing!=3.0.5,>=2.0.2 in /usr/lib/python3/dist-packages (from packaging->keras-tuner) (2.2.0)\n",
            "Requirement already satisfied: charset-normalizer~=2.0.0 in /usr/local/lib/python3.6/dist-packages (from requests->keras-tuner) (2.0.12)\n",
            "Requirement already satisfied: idna<4,>=2.5 in /usr/lib/python3/dist-packages (from requests->keras-tuner) (2.6)\n",
            "Requirement already satisfied: certifi>=2017.4.17 in /usr/lib/python3/dist-packages (from requests->keras-tuner) (2018.1.18)\n",
            "Requirement already satisfied: urllib3<1.27,>=1.21.1 in /usr/lib/python3/dist-packages (from requests->keras-tuner) (1.22)\n"
          ]
        }
      ],
      "source": [
        "!pip install keras-tuner"
      ]
    },
    {
      "cell_type": "code",
      "execution_count": null,
      "metadata": {
        "id": "3b70Fx5ttvWl",
        "outputId": "cf016cd5-2e3b-456c-9b83-ae2a6806b5cf"
      },
      "outputs": [
        {
          "name": "stdout",
          "output_type": "stream",
          "text": [
            "INFO:tensorflow:Reloading Tuner from tuner_results/my_model_tuning/tuner0.json\n",
            "INFO:tensorflow:Oracle triggered exit\n",
            "Epoch 1/10\n",
            "15/15 [==============================] - 1s 4ms/step - loss: 0.2576 - accuracy: 0.9893\n",
            "Epoch 2/10\n",
            "15/15 [==============================] - 0s 4ms/step - loss: 0.2010 - accuracy: 0.9893\n",
            "Epoch 3/10\n",
            "15/15 [==============================] - 0s 4ms/step - loss: 0.1587 - accuracy: 0.9936\n",
            "Epoch 4/10\n",
            "15/15 [==============================] - 0s 5ms/step - loss: 0.1271 - accuracy: 0.9957\n",
            "Epoch 5/10\n",
            "15/15 [==============================] - 0s 4ms/step - loss: 0.1042 - accuracy: 1.0000\n",
            "Epoch 6/10\n",
            "15/15 [==============================] - 0s 5ms/step - loss: 0.0865 - accuracy: 1.0000\n",
            "Epoch 7/10\n",
            "15/15 [==============================] - 0s 4ms/step - loss: 0.0732 - accuracy: 1.0000: 0s - loss: 0.0754 - accuracy: 1.00\n",
            "Epoch 8/10\n",
            "15/15 [==============================] - 0s 4ms/step - loss: 0.0623 - accuracy: 1.0000\n",
            "Epoch 9/10\n",
            "15/15 [==============================] - 0s 3ms/step - loss: 0.0538 - accuracy: 1.0000\n",
            "Epoch 10/10\n",
            "15/15 [==============================] - 0s 5ms/step - loss: 0.0470 - accuracy: 1.0000\n",
            "4/4 [==============================] - 0s 3ms/step - loss: 0.3663 - accuracy: 0.8803\n",
            "15/15 [==============================] - 0s 3ms/step - loss: 0.0429 - accuracy: 1.0000\n",
            "Best Hyperparameters:  <keras_tuner.engine.hyperparameters.hyperparameters.HyperParameters object at 0x7fc01f2e66a0>\n"
          ]
        }
      ],
      "source": [
        "# Hyper Parameter Tuning\n",
        "from kerastuner.tuners import RandomSearch\n",
        "from kerastuner.engine.hyperparameters import HyperParameters\n",
        "\n",
        "# Define the model builder function\n",
        "def build_model(hp):\n",
        "    model = keras.Sequential()\n",
        "    model.add(keras.layers.Dense(units=hp.Int('units_1', min_value=32, max_value=128, step=32),\n",
        "                                 activation=hp.Choice('activation_1', values=['relu', 'tanh', 'sigmoid'])))\n",
        "    model.add(keras.layers.Dense(units=hp.Int('units_2', min_value=32, max_value=128, step=32),\n",
        "                                 activation=hp.Choice('activation_2', values=['relu', 'tanh', 'sigmoid'])))\n",
        "    model.add(keras.layers.Dense(units=hp.Int('units_3', min_value=32, max_value=128, step=32),\n",
        "                                 activation=hp.Choice('activation_3', values=['relu', 'tanh', 'sigmoid'])))\n",
        "    model.compile(optimizer='adam', loss='sparse_categorical_crossentropy',\n",
        "                  metrics=['accuracy'])\n",
        "\n",
        "    return model\n",
        "\n",
        "# Instantiate the tuner\n",
        "tuner = RandomSearch(build_model, objective='val_accuracy', max_trials=10,\n",
        "                    executions_per_trial=1, directory='tuner_results',\n",
        "                    project_name='my_model_tuning')\n",
        "\n",
        "# Perform Hyperparameter Search\n",
        "tuner.search(X_train, Y_train, epochs=10, validation_data=(X_test, Y_test))\n",
        "\n",
        "# Retrieve the best model\n",
        "best_model = tuner.get_best_models(1)[0]\n",
        "\n",
        "# Fit the best model with the complete training data\n",
        "best_model.fit(X_train, Y_train, epochs=10)\n",
        "\n",
        "# Evaluate the best model on the test data\n",
        "test_loss, test_accuracy = best_model.evaluate(X_test, Y_test)\n",
        "train_loss, train_accuracy = best_model.evaluate(X_train, Y_train)\n",
        "\n",
        "# Printing the Best Parameters\n",
        "best_hyperparameters = tuner.get_best_hyperparameters(1)[0]\n",
        "\n",
        "print(\"Best Hyperparameters: \", best_hyperparameters)\n"
      ]
    },
    {
      "cell_type": "code",
      "execution_count": null,
      "metadata": {
        "id": "QAaJsQ3RtvWm",
        "outputId": "fe35addb-a233-44ef-d497-5b6325713e76"
      },
      "outputs": [
        {
          "name": "stdout",
          "output_type": "stream",
          "text": [
            "Best Hyperparameters:  <keras_tuner.engine.hyperparameters.hyperparameters.HyperParameters object at 0x7fc01f2e66a0>\n"
          ]
        }
      ],
      "source": [
        "# Printing the best parameters\n",
        "best_hyperparameers = tuner.get_best_hyperparameters(1)[0]\n",
        "print(\"Best Hyperparameters: \", best_hyperparameters)"
      ]
    },
    {
      "cell_type": "code",
      "execution_count": null,
      "metadata": {
        "id": "UMlWT8vbtvWm",
        "outputId": "388c31cf-0b20-492f-c0b2-44d16235b28f"
      },
      "outputs": [
        {
          "name": "stdout",
          "output_type": "stream",
          "text": [
            "Accuracy on Training Data:  1.0\n",
            "Accuracy on Test Data:  0.8803418874740601\n"
          ]
        }
      ],
      "source": [
        "# Printing the Accuracy of Training and Test Dataset\n",
        "print(f'Accuracy on Training Data: ', train_accuracy)\n",
        "print(f'Accuracy on Test Data: ', test_accuracy)"
      ]
    },
    {
      "cell_type": "markdown",
      "metadata": {
        "id": "TGBe9TkFtvWn"
      },
      "source": [
        "Training Accuracy --------> 100 Percent"
      ]
    },
    {
      "cell_type": "markdown",
      "metadata": {
        "id": "M69nnHDFtvWn"
      },
      "source": [
        "Testing Accuracy ----------> 88 Percent"
      ]
    },
    {
      "cell_type": "markdown",
      "metadata": {
        "id": "-XBDQhCXtvWo"
      },
      "source": [
        "DIMENTIONALITY REDUCTION TECHNIQUE : T-SNE"
      ]
    },
    {
      "cell_type": "markdown",
      "metadata": {
        "id": "GWtATxATtvWo"
      },
      "source": [
        "IMPLEMENTING T-SNE"
      ]
    },
    {
      "cell_type": "code",
      "execution_count": null,
      "metadata": {
        "id": "tSOjMah2tvWo"
      },
      "outputs": [],
      "source": [
        "# Reducing the dimentions of the dataset to visualize t-SNE\n",
        "from sklearn.manifold import TSNE\n",
        "\n",
        "tsne = TSNE(n_components=2, random_state=42)\n",
        "X_tsne = tsne.fit_transform(X_train)"
      ]
    },
    {
      "cell_type": "markdown",
      "metadata": {
        "id": "OAY4Tn8DtvWp"
      },
      "source": [
        "VISUALIZING THROUGH T-SNE"
      ]
    },
    {
      "cell_type": "code",
      "execution_count": null,
      "metadata": {
        "id": "0vHoKyeRtvWp",
        "outputId": "93034d95-14e0-40a4-e4d7-52878d9cca3e"
      },
      "outputs": [
        {
          "data": {
            "image/png": "[encoded data removed]",
            "text/plain": [
              "<matplotlib.figure.Figure at 0x7fc01f0f05f8>"
            ]
          },
          "metadata": {},
          "output_type": "display_data"
        }
      ],
      "source": [
        "# Visualizing the Training Dataset through t-SNE\n",
        "import matplotlib.pyplot as plt\n",
        "\n",
        "plt.scatter(X_tsne[:, 0], X_tsne[:, 1], c=Y_train)\n",
        "plt.title(\"t-SNE Visualization\")\n",
        "plt.xlabel(\"Dimention 1\")\n",
        "plt.ylabel(\"Dimention 2\")\n",
        "plt.show()"
      ]
    },
    {
      "cell_type": "markdown",
      "metadata": {
        "id": "VPflDD2htvWq"
      },
      "source": [
        "SUPPORT VECTOR MACHINE : SVM"
      ]
    },
    {
      "cell_type": "markdown",
      "metadata": {
        "id": "_rnzFyp7tvWr"
      },
      "source": [
        "BUILDING SVM MODEL"
      ]
    },
    {
      "cell_type": "code",
      "execution_count": null,
      "metadata": {
        "id": "UAMjOrNRtvWr"
      },
      "outputs": [],
      "source": [
        "# Building SVM Model\n",
        "from sklearn import svm\n",
        "classifier = svm.SVC(kernel='linear')"
      ]
    },
    {
      "cell_type": "code",
      "execution_count": null,
      "metadata": {
        "id": "0u_n5KoatvWs",
        "outputId": "fb3c644d-9c56-4fa8-fb7c-0a2c08611fdd"
      },
      "outputs": [
        {
          "data": {
            "text/plain": [
              "SVC(kernel='linear')"
            ]
          },
          "execution_count": 48,
          "metadata": {},
          "output_type": "execute_result"
        }
      ],
      "source": [
        "# Fitting the SVM Model to Training Dataset\n",
        "\n",
        "classifier.fit(X_train, Y_train)"
      ]
    },
    {
      "cell_type": "code",
      "execution_count": null,
      "metadata": {
        "id": "oh7IWLTHtvWs"
      },
      "outputs": [],
      "source": [
        "# Accuracy score on training data\n",
        "\n",
        "X_train_prediction = classifier.predict(X_train)\n",
        "training_data_accuracy = accuracy_score(X_train_prediction, Y_train)"
      ]
    },
    {
      "cell_type": "code",
      "execution_count": null,
      "metadata": {
        "id": "5-whG4ZXtvWt",
        "outputId": "8fab1b67-045f-4f85-8430-493d309af4c9"
      },
      "outputs": [
        {
          "name": "stdout",
          "output_type": "stream",
          "text": [
            "Accuray score of the training data:  1.0\n"
          ]
        }
      ],
      "source": [
        "# Printing the Accuracy of Training Dataset\n",
        "\n",
        "print(\"Accuray score of the training data: \", training_data_accuracy)\n"
      ]
    },
    {
      "cell_type": "code",
      "execution_count": null,
      "metadata": {
        "id": "ecR7hdI0tvWt"
      },
      "outputs": [],
      "source": [
        "# Accuracy score on test data\n",
        "\n",
        "X_test_prediction = classifier.predict(X_test)\n",
        "test_data_accuracy = accuracy_score(X_test_prediction, Y_test)\n"
      ]
    },
    {
      "cell_type": "code",
      "execution_count": null,
      "metadata": {
        "id": "HLRhbzsttvWu",
        "outputId": "3482b52c-9e63-45ef-db9f-7f8d2b1ddaa5"
      },
      "outputs": [
        {
          "name": "stdout",
          "output_type": "stream",
          "text": [
            "Accuracy Score of the Test Data:  0.9487179487179487\n"
          ]
        }
      ],
      "source": [
        "# Printing the Accuracy of Test Data\n",
        "\n",
        "print(\"Accuracy Score of the Test Data: \", test_data_accuracy)\n",
        "\n",
        "\n"
      ]
    },
    {
      "cell_type": "markdown",
      "metadata": {
        "id": "2xuQn5RrtvWu"
      },
      "source": [
        "TRAINING ACCURACY --------> 100 Percent"
      ]
    },
    {
      "cell_type": "markdown",
      "metadata": {
        "id": "qZ6v8WQGtvWv"
      },
      "source": [
        "TESTING ACCURACY  --------> 94 Percent"
      ]
    },
    {
      "cell_type": "markdown",
      "metadata": {
        "id": "eJzA82kGtvWv"
      },
      "source": [
        "HYPER-PARAMETER TUNING OF SVM MODEL"
      ]
    },
    {
      "cell_type": "code",
      "execution_count": null,
      "metadata": {
        "id": "7oj1Nn6ytvWv",
        "outputId": "731a2307-4683-4d82-eb99-7c41719e6099"
      },
      "outputs": [
        {
          "name": "stdout",
          "output_type": "stream",
          "text": [
            "Best Hyperparameters:  {'C': 0.1, 'gamma': 0.1}\n",
            "Traning Accuracy:  1.0\n",
            "Test Accuracy:  0.9487179487179487\n"
          ]
        }
      ],
      "source": [
        "# Hyper Parameter Tuning\n",
        "param_grid = {'C' : [0.1, 1, 10], 'gamma': [0.1, 1, 'scale', 'auto']}\n",
        "\n",
        "grid_search = GridSearchCV(estimator=classifier, param_grid=param_grid, cv=5, scoring='accuracy')\n",
        "grid_search.fit(X_train, Y_train)\n",
        "\n",
        "\n",
        "# Retrieve the best hyper-parameters and model\n",
        "best_params = grid_search.best_params_\n",
        "best_model = grid_search.best_estimator_\n",
        "\n",
        "# Fit the best model on Training Data\n",
        "best_model.fit(X_train, Y_train)\n",
        "\n",
        "# Accuracy score on Training Data\n",
        "training_data_accuracy = best_model.score(X_train, Y_train)\n",
        "\n",
        "# Accuracy score on Test Data\n",
        "test_data_accuracy = best_model.score(X_test, Y_test)\n",
        "\n",
        "# Print the Best Parameters and Accuracy\n",
        "print(\"Best Hyperparameters: \",best_params )\n",
        "print(\"Traning Accuracy: \", training_data_accuracy)\n",
        "print(\"Test Accuracy: \", test_data_accuracy)\n"
      ]
    },
    {
      "cell_type": "markdown",
      "metadata": {
        "id": "gS7YEI3ytvWw"
      },
      "source": [
        "TRAINING ACCURACY OF SVM MODEL : 100 Percent\n",
        "\n",
        "TEST ACCURACY OF SVM MODEL : 94 Percent\n",
        "\n",
        "BEST HYPE-PARAMETERS : {'C':0.1, 'gamma': 0.1}\n"
      ]
    }
  ],
  "metadata": {
    "kernelspec": {
      "display_name": "Python 3",
      "language": "python",
      "name": "python3"
    },
    "language_info": {
      "codemirror_mode": {
        "name": "ipython",
        "version": 3
      },
      "file_extension": ".py",
      "mimetype": "text/x-python",
      "name": "python",
      "nbconvert_exporter": "python",
      "pygments_lexer": "ipython3",
      "version": "3.6.9"
    },
    "colab": {
      "provenance": []
    }
  },
  "nbformat": 4,
  "nbformat_minor": 0
}